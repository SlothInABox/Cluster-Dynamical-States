{
 "cells": [
  {
   "cell_type": "markdown",
   "metadata": {},
   "source": [
    "# Defining the Relaxation Parameter\n",
    "\n",
    "First we import the necessary modules."
   ]
  },
  {
   "cell_type": "code",
   "execution_count": 1,
   "metadata": {},
   "outputs": [],
   "source": [
    "# Import module here\n",
    "from utils import *"
   ]
  },
  {
   "cell_type": "markdown",
   "metadata": {},
   "source": [
    "## Import data\n",
    "\n",
    "We import the data using the following code. These values are dictionaries."
   ]
  },
  {
   "cell_type": "code",
   "execution_count": 3,
   "metadata": {},
   "outputs": [
    {
     "name": "stdout",
     "output_type": "stream",
     "text": [
      "---Reading: DS_G3X_snap_066_center-cluster_progenitors.txt---\n"
     ]
    }
   ],
   "source": [
    "R200, R500 = read_data('dat/')"
   ]
  },
  {
   "cell_type": "markdown",
   "metadata": {},
   "source": [
    "## Combining parameters into $\\theta$\n",
    "\n",
    "$\\theta$ is defined as: $\\theta = \\frac{\\Delta + mf_m}{2}$. We use this to combine parameters into theta. We will plot a distribution of $\\theta$ values for redshift 0."
   ]
  },
  {
   "cell_type": "code",
   "execution_count": null,
   "metadata": {},
   "outputs": [],
   "source": [
    "for rshift, params in R200.items():\n",
    "        #: ndarrays: Parameters from values.\n",
    "        eta, delta, fm = params[:,1], params[:,2], params[:,3]\n",
    "        #: ndarrays: Theta values and uncertainties.\n",
    "        theta, theta_err = calc_theta(fm, delta)\n",
    "        if rshift == 0.0:\n",
    "            "
   ]
  }
 ],
 "metadata": {
  "kernelspec": {
   "display_name": "Python 3",
   "language": "python",
   "name": "python3"
  },
  "language_info": {
   "codemirror_mode": {
    "name": "ipython",
    "version": 3
   },
   "file_extension": ".py",
   "mimetype": "text/x-python",
   "name": "python",
   "nbconvert_exporter": "python",
   "pygments_lexer": "ipython3",
   "version": "3.6.8"
  }
 },
 "nbformat": 4,
 "nbformat_minor": 2
}
